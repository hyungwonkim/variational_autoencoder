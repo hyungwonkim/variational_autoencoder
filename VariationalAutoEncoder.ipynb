{
 "cells": [
  {
   "cell_type": "markdown",
   "metadata": {},
   "source": [
    "# Variational Autoencoders"
   ]
  },
  {
   "cell_type": "markdown",
   "metadata": {},
   "source": [
    "## References"
   ]
  },
  {
   "cell_type": "markdown",
   "metadata": {},
   "source": [
    "* Auto-encoding variational Bayes. Diederik P Kingma and Max Welling, ICLR, 2014. \n",
    "* Tutorial on Variational Autoencoders, Carl Doersch, arxiv:1606.05908v2. \n",
    "* Variational Inference: A Review for Statisticians, David M Blei, Alp Kucukelbir, Jon D McAuliffe, arXiv:1601.00670v9. \n",
    "* https://www.youtube.com/watch?v=uaaqyVS9-rM&feature=youtu.be&t=19m42s (mathematical derivation)\n",
    "* https://www.jeremyjordan.me/variational-autoencoders/ (good read)"
   ]
  },
  {
   "cell_type": "markdown",
   "metadata": {},
   "source": []
  }
 ],
 "metadata": {
  "kernelspec": {
   "display_name": "Python 3",
   "language": "python",
   "name": "python3"
  },
  "language_info": {
   "codemirror_mode": {
    "name": "ipython",
    "version": 3
   },
   "file_extension": ".py",
   "mimetype": "text/x-python",
   "name": "python",
   "nbconvert_exporter": "python",
   "pygments_lexer": "ipython3",
   "version": "3.6.4"
  }
 },
 "nbformat": 4,
 "nbformat_minor": 2
}
